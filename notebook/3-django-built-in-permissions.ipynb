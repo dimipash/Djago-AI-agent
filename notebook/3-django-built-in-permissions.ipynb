{
 "cells": [
  {
   "cell_type": "code",
   "execution_count": 1,
   "id": "c9778e94",
   "metadata": {},
   "outputs": [],
   "source": [
    "import setup  # notebooks/setup.py\n",
    "setup.init()"
   ]
  },
  {
   "cell_type": "code",
   "execution_count": 2,
   "id": "0d6018bb",
   "metadata": {},
   "outputs": [
    {
     "data": {
      "text/plain": [
       "<QuerySet [<User: pashinator>, <User: steve_hunter>]>"
      ]
     },
     "execution_count": 2,
     "metadata": {},
     "output_type": "execute_result"
    }
   ],
   "source": [
    "from django.contrib.auth import get_user_model\n",
    "\n",
    "User = get_user_model()\n",
    "\n",
    "# list -> get \n",
    "User.objects.all()"
   ]
  },
  {
   "cell_type": "code",
   "execution_count": 3,
   "id": "b2eb7074",
   "metadata": {},
   "outputs": [
    {
     "data": {
      "text/plain": [
       "<User: pashinator>"
      ]
     },
     "execution_count": 3,
     "metadata": {},
     "output_type": "execute_result"
    }
   ],
   "source": [
    "# superuser = admin user\n",
    "# python manage.py createsuperuser\n",
    "# User.objects.create_superuser()\n",
    "\n",
    "super_u = User.objects.filter(is_superuser=True).first()\n",
    "super_u"
   ]
  },
  {
   "cell_type": "code",
   "execution_count": 4,
   "id": "c19c1f42",
   "metadata": {},
   "outputs": [
    {
     "data": {
      "text/plain": [
       "<QuerySet []>"
      ]
     },
     "execution_count": 4,
     "metadata": {},
     "output_type": "execute_result"
    }
   ],
   "source": [
    "super_u.user_permissions.all()"
   ]
  },
  {
   "cell_type": "code",
   "execution_count": 5,
   "id": "84caddaf",
   "metadata": {},
   "outputs": [
    {
     "data": {
      "text/plain": [
       "<User: steve_hunter>"
      ]
     },
     "execution_count": 5,
     "metadata": {},
     "output_type": "execute_result"
    }
   ],
   "source": [
    "staff_u = User.objects.filter(is_superuser=False, is_staff=True).first()\n",
    "staff_u"
   ]
  },
  {
   "cell_type": "code",
   "execution_count": 6,
   "id": "6f8d1d62",
   "metadata": {},
   "outputs": [
    {
     "data": {
      "text/plain": [
       "<QuerySet []>"
      ]
     },
     "execution_count": 6,
     "metadata": {},
     "output_type": "execute_result"
    }
   ],
   "source": [
    "staff_u.user_permissions.all()"
   ]
  },
  {
   "cell_type": "code",
   "execution_count": 7,
   "id": "48623861",
   "metadata": {},
   "outputs": [
    {
     "name": "stdout",
     "output_type": "stream",
     "text": [
      "view_logentry\n",
      "view_group\n",
      "view_permission\n",
      "view_user\n",
      "view_contenttype\n",
      "view_document\n",
      "view_session\n"
     ]
    }
   ],
   "source": [
    "from django.contrib.auth.models import Permission\n",
    "\n",
    "perms_qs = Permission.objects.filter(codename__icontains=\"VIEW\")\n",
    "for obj in perms_qs:\n",
    "    print(obj.codename)\n",
    "    staff_u.user_permissions.remove(obj)"
   ]
  },
  {
   "cell_type": "code",
   "execution_count": 9,
   "id": "573a1c67",
   "metadata": {},
   "outputs": [
    {
     "data": {
      "text/plain": [
       "<QuerySet [<Permission: Documents | document | Can add document>, <Permission: Documents | document | Can change document>, <Permission: Documents | document | Can delete document>, <Permission: Documents | document | Can view document>]>"
      ]
     },
     "execution_count": 9,
     "metadata": {},
     "output_type": "execute_result"
    }
   ],
   "source": [
    "docs_qs = Permission.objects.filter(codename__endswith=\"document\")\n",
    "docs_qs\n",
    "# staff_u.user_permissions.set(perms_qs)"
   ]
  },
  {
   "cell_type": "code",
   "execution_count": 10,
   "id": "f73df91f",
   "metadata": {},
   "outputs": [
    {
     "data": {
      "text/plain": [
       "<QuerySet [<Permission: Administration | log entry | Can view log entry>, <Permission: Authentication and Authorization | group | Can view group>, <Permission: Authentication and Authorization | permission | Can view permission>, <Permission: Authentication and Authorization | user | Can view user>, <Permission: Content Types | content type | Can view content type>, <Permission: Documents | document | Can add document>, <Permission: Documents | document | Can change document>, <Permission: Documents | document | Can delete document>, <Permission: Documents | document | Can view document>, <Permission: Sessions | session | Can view session>]>"
      ]
     },
     "execution_count": 10,
     "metadata": {},
     "output_type": "execute_result"
    }
   ],
   "source": [
    "new_perms = docs_qs | perms_qs\n",
    "new_perms"
   ]
  },
  {
   "cell_type": "code",
   "execution_count": 11,
   "id": "c4666723",
   "metadata": {},
   "outputs": [],
   "source": [
    "new_perms = new_perms.exclude(codename__icontains='delete')"
   ]
  },
  {
   "cell_type": "code",
   "execution_count": 12,
   "id": "0cdb1330",
   "metadata": {},
   "outputs": [],
   "source": [
    "staff_u.user_permissions.set(new_perms)"
   ]
  }
 ],
 "metadata": {
  "kernelspec": {
   "display_name": "venv",
   "language": "python",
   "name": "python3"
  },
  "language_info": {
   "codemirror_mode": {
    "name": "ipython",
    "version": 3
   },
   "file_extension": ".py",
   "mimetype": "text/x-python",
   "name": "python",
   "nbconvert_exporter": "python",
   "pygments_lexer": "ipython3",
   "version": "3.13.5"
  }
 },
 "nbformat": 4,
 "nbformat_minor": 5
}
