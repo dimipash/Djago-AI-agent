{
 "cells": [
  {
   "cell_type": "code",
   "execution_count": 3,
   "id": "aaf165cb",
   "metadata": {},
   "outputs": [],
   "source": [
    "import setup\n",
    "\n",
    "setup.init()"
   ]
  },
  {
   "cell_type": "code",
   "execution_count": 4,
   "id": "4c0e6c5b",
   "metadata": {},
   "outputs": [
    {
     "data": {
      "text/plain": [
       "<QuerySet [<User: pashis>]>"
      ]
     },
     "execution_count": 4,
     "metadata": {},
     "output_type": "execute_result"
    }
   ],
   "source": [
    "from django.contrib.auth import get_user_model\n",
    "\n",
    "User = get_user_model()\n",
    "\n",
    "User.objects.all()"
   ]
  },
  {
   "cell_type": "code",
   "execution_count": 5,
   "id": "2bb3a404",
   "metadata": {},
   "outputs": [
    {
     "data": {
      "text/plain": [
       "<User: staff>"
      ]
     },
     "execution_count": 5,
     "metadata": {},
     "output_type": "execute_result"
    }
   ],
   "source": [
    "user_obj = User(\n",
    "    username=\"staff\"\n",
    ")\n",
    "user_obj"
   ]
  },
  {
   "cell_type": "code",
   "execution_count": 6,
   "id": "bc5c0dae",
   "metadata": {},
   "outputs": [],
   "source": [
    "user_obj.save()"
   ]
  },
  {
   "cell_type": "code",
   "execution_count": 7,
   "id": "7e89dc43",
   "metadata": {},
   "outputs": [
    {
     "data": {
      "text/plain": [
       "<Document: Hello, World!>"
      ]
     },
     "execution_count": 7,
     "metadata": {},
     "output_type": "execute_result"
    }
   ],
   "source": [
    "from documents.models import Document\n",
    "\n",
    "doc_obj = Document(\n",
    "    owner=user_obj,\n",
    "    title=\"Hello, World!\"\n",
    ")\n",
    "doc_obj"
   ]
  },
  {
   "cell_type": "code",
   "execution_count": 8,
   "id": "60718f57",
   "metadata": {},
   "outputs": [],
   "source": [
    "doc_obj.save()"
   ]
  }
 ],
 "metadata": {
  "kernelspec": {
   "display_name": "venv",
   "language": "python",
   "name": "python3"
  },
  "language_info": {
   "codemirror_mode": {
    "name": "ipython",
    "version": 3
   },
   "file_extension": ".py",
   "mimetype": "text/x-python",
   "name": "python",
   "nbconvert_exporter": "python",
   "pygments_lexer": "ipython3",
   "version": "3.13.3"
  }
 },
 "nbformat": 4,
 "nbformat_minor": 5
}
